{
 "cells": [
  {
   "cell_type": "code",
   "execution_count": null,
   "metadata": {},
   "outputs": [],
   "source": [
    "import argparse\n",
    "import time\n",
    "\n",
    "import cv2\n",
    "import matplotlib.pyplot as plt\n",
    "\n",
    "from detectors import *\n",
    "from utils import *"
   ]
  },
  {
   "cell_type": "code",
   "execution_count": null,
   "metadata": {},
   "outputs": [],
   "source": [
    "def run_benchmark(img, detector, n_iters=100):\n",
    "    \"\"\"Run benchmark on a detector.\"\"\"\n",
    "    times = []\n",
    "    for _ in range(n_iters):\n",
    "        start = time.time()\n",
    "        detector(img)\n",
    "        times.append(time.time() - start)\n",
    "    return np.mean(times)"
   ]
  },
  {
   "cell_type": "code",
   "execution_count": null,
   "metadata": {},
   "outputs": [],
   "source": [
    "img = cv2.imread(\"data/eval.JPG\", cv2.IMREAD_GRAYSCALE)\n",
    "img = cv2.resize(img, (1024, 1024))\n",
    "\n",
    "sift = SIFTFrontend()\n",
    "# silk = SILKFrontend()\n",
    "superpoint = SuperPointFrontend(weights_path=\"modules/superglue/models/weights/superpoint_v1.pth\", cuda=False)\n",
    "\n",
    "sift_time = run_benchmark(img, sift)\n",
    "print(\"SIFT:\\t\\t{:.3f} seconds\".format(sift_time))\n",
    "sift_kp, sift_desc = sift(img)\n",
    "\n",
    "# silk_time = run_benchmark(img, silk)\n",
    "# silk_kp, silk_desc = silk(img)\n",
    "\n",
    "sp_time = run_benchmark(img, superpoint)\n",
    "print(\"SuperPoint:\\t{:.3f} seconds\".format(sp_time))\n",
    "sp_kp, sp_desc = superpoint(img)\n",
    "\n",
    "# plot keypoints\n",
    "fig, ax = plt.subplots(2, 2)\n",
    "ax = ax.flatten()\n",
    "ax[0].imshow(cv2.drawKeypoints(img, sift_kp, None))  # type: ignore\n",
    "ax[0].set_title(\"SIFT (detected {} keypoints in {:.3f} seconds)\".format(len(sift_kp), sift_time))\n",
    "ax[1].imshow(cv2.drawKeypoints(img, superpoint2opencv_keypoints(sp_kp), None))  # type: ignore\n",
    "ax[1].set_title(\"SuperPoint (detected {} keypoints in {:.3f} seconds)\".format(len(sp_kp), sp_time))\n",
    "# ax[2].imshow(cv2.drawKeypoints(img, silk_kp, None))  # type: ignore\n",
    "# ax[2].set_title(\"SiLK (detected {} keypoints in {:.3f} seconds)\".format(len(silk_kp), silk_time))\n",
    "plt.show()"
   ]
  }
 ],
 "metadata": {
  "kernelspec": {
   "display_name": "keypoints",
   "language": "python",
   "name": "python3"
  },
  "language_info": {
   "codemirror_mode": {
    "name": "ipython",
    "version": 3
   },
   "file_extension": ".py",
   "mimetype": "text/x-python",
   "name": "python",
   "nbconvert_exporter": "python",
   "pygments_lexer": "ipython3",
   "version": "3.11.6"
  }
 },
 "nbformat": 4,
 "nbformat_minor": 2
}
